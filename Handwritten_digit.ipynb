{
 "cells": [
  {
   "cell_type": "markdown",
   "metadata": {},
   "source": [
    "## Importing necessary libraries"
   ]
  },
  {
   "cell_type": "code",
   "execution_count": 2,
   "metadata": {},
   "outputs": [
    {
     "name": "stderr",
     "output_type": "stream",
     "text": [
      "Using TensorFlow backend.\n"
     ]
    }
   ],
   "source": [
    "import numpy as np\n",
    "import tensorflow as tf\n",
    "import keras\n",
    "import matplotlib.pyplot as plt\n",
    "from tensorflow import keras\n",
    "from tensorflow.keras import layers"
   ]
  },
  {
   "cell_type": "code",
   "execution_count": 3,
   "metadata": {},
   "outputs": [],
   "source": [
    "from keras.datasets import mnist\n",
    "from keras.models import Sequential\n",
    "from keras.layers import Dense, Dropout, Flatten\n",
    "from keras.layers import Conv2D, MaxPool2D\n",
    "from keras import backend as k\n",
    "from keras.layers import AveragePooling2D"
   ]
  },
  {
   "cell_type": "markdown",
   "metadata": {},
   "source": [
    "## Importing dataset and pre-processing"
   ]
  },
  {
   "cell_type": "code",
   "execution_count": 4,
   "metadata": {},
   "outputs": [],
   "source": [
    "(X_train , Y_train) , (X_test , Y_test) = mnist.load_data()"
   ]
  },
  {
   "cell_type": "code",
   "execution_count": 5,
   "metadata": {},
   "outputs": [],
   "source": [
    "#adding number of channels\n",
    "X_train = X_train.reshape(X_train.shape[0], 28, 28, 1)\n",
    "X_test = X_test.reshape(X_test.shape[0], 28, 28, 1)\n",
    "Y_train = keras.utils.to_categorical(Y_train,10)\n",
    "Y_test = keras.utils.to_categorical(Y_test,10)\n",
    "X_train = X_train.astype('float32')\n",
    "X_test = X_test.astype('float32')\n",
    "#normalization\n",
    "X_train /= 255\n",
    "X_test /= 255"
   ]
  },
  {
   "cell_type": "code",
   "execution_count": 6,
   "metadata": {},
   "outputs": [],
   "source": [
    "from tensorflow.python.framework import ops\n",
    "ops.reset_default_graph()"
   ]
  },
  {
   "cell_type": "markdown",
   "metadata": {},
   "source": [
    "## Model"
   ]
  },
  {
   "cell_type": "code",
   "execution_count": 42,
   "metadata": {},
   "outputs": [],
   "source": [
    "batch_size = 32\n",
    "epochs = 10\n",
    "model = keras.Sequential()\n",
    "model.add(layers.Conv2D(40,kernel_size=(5,5), activation='relu', input_shape=(28,28,1)))\n",
    "model.add(layers.AveragePooling2D(pool_size=(2,2) , strides=1))\n",
    "model.add(layers.Conv2D(50,kernel_size=(5,5), activation='relu'))\n",
    "model.add(layers.AveragePooling2D(pool_size=(2,2) , strides=1))\n",
    "model.add(layers.Flatten())\n",
    "model.add(layers.Dense(120,activation='relu'))\n",
    "model.add(layers.Dense(10, activation='softmax'))"
   ]
  },
  {
   "cell_type": "code",
   "execution_count": 43,
   "metadata": {},
   "outputs": [],
   "source": [
    "model.compile(loss=keras.losses.categorical_crossentropy, optimizer=keras.optimizers.Adadelta(), metrics=[\"accuracy\"])"
   ]
  },
  {
   "cell_type": "markdown",
   "metadata": {},
   "source": [
    "## Training model"
   ]
  },
  {
   "cell_type": "code",
   "execution_count": 44,
   "metadata": {},
   "outputs": [
    {
     "name": "stdout",
     "output_type": "stream",
     "text": [
      "Train on 60000 samples, validate on 10000 samples\n",
      "Epoch 1/10\n",
      "60000/60000 [==============================] - 15s 244us/sample - loss: 1.8927 - accuracy: 0.5689 - val_loss: 1.1798 - val_accuracy: 0.7837\n",
      "Epoch 2/10\n",
      "60000/60000 [==============================] - 15s 255us/sample - loss: 0.7877 - accuracy: 0.8214 - val_loss: 0.5505 - val_accuracy: 0.8665\n",
      "Epoch 3/10\n",
      "60000/60000 [==============================] - 15s 258us/sample - loss: 0.5042 - accuracy: 0.8650 - val_loss: 0.4299 - val_accuracy: 0.8861\n",
      "Epoch 4/10\n",
      "60000/60000 [==============================] - 15s 255us/sample - loss: 0.4269 - accuracy: 0.8810 - val_loss: 0.3824 - val_accuracy: 0.8961\n",
      "Epoch 5/10\n",
      "60000/60000 [==============================] - 15s 257us/sample - loss: 0.3887 - accuracy: 0.8904 - val_loss: 0.3550 - val_accuracy: 0.9015\n",
      "Epoch 6/10\n",
      "60000/60000 [==============================] - 15s 255us/sample - loss: 0.3640 - accuracy: 0.8957 - val_loss: 0.3348 - val_accuracy: 0.9052\n",
      "Epoch 7/10\n",
      "60000/60000 [==============================] - 15s 256us/sample - loss: 0.3455 - accuracy: 0.9016 - val_loss: 0.3191 - val_accuracy: 0.9096\n",
      "Epoch 8/10\n",
      "60000/60000 [==============================] - 15s 257us/sample - loss: 0.3305 - accuracy: 0.9058 - val_loss: 0.3054 - val_accuracy: 0.9138\n",
      "Epoch 9/10\n",
      "60000/60000 [==============================] - 15s 257us/sample - loss: 0.3177 - accuracy: 0.9091 - val_loss: 0.2959 - val_accuracy: 0.9161\n",
      "Epoch 10/10\n",
      "60000/60000 [==============================] - 15s 257us/sample - loss: 0.3064 - accuracy: 0.9125 - val_loss: 0.2846 - val_accuracy: 0.9195\n",
      "The model is successfully trained!\n"
     ]
    }
   ],
   "source": [
    "hist = model.fit(X_train, Y_train, batch_size=batch_size, epochs=epochs, verbose=1, validation_data=(X_test,Y_test))\n",
    "print(\"The model is successfully trained!\")"
   ]
  },
  {
   "cell_type": "markdown",
   "metadata": {},
   "source": [
    "## Testing model"
   ]
  },
  {
   "cell_type": "code",
   "execution_count": 45,
   "metadata": {},
   "outputs": [],
   "source": [
    "ans = model.predict(X_test)"
   ]
  },
  {
   "cell_type": "code",
   "execution_count": 46,
   "metadata": {},
   "outputs": [
    {
     "data": {
      "text/plain": [
       "<matplotlib.image.AxesImage at 0x22dd3e2a1c8>"
      ]
     },
     "execution_count": 46,
     "metadata": {},
     "output_type": "execute_result"
    },
    {
     "data": {
      "image/png": "[encoded data removed]",
      "text/plain": [
       "<Figure size 432x288 with 1 Axes>"
      ]
     },
     "metadata": {
      "needs_background": "light"
     },
     "output_type": "display_data"
    }
   ],
   "source": [
    "plt.imshow(X_test[420][:,:,0], cmap=plt.get_cmap('gray'))"
   ]
  },
  {
   "cell_type": "code",
   "execution_count": 47,
   "metadata": {},
   "outputs": [
    {
     "data": {
      "text/plain": [
       "4"
      ]
     },
     "execution_count": 47,
     "metadata": {},
     "output_type": "execute_result"
    }
   ],
   "source": [
    "ans[420].argmax()"
   ]
  },
  {
   "cell_type": "code",
   "execution_count": null,
   "metadata": {},
   "outputs": [],
   "source": []
  }
 ],
 "metadata": {
  "kernelspec": {
   "display_name": "Python 3",
   "language": "python",
   "name": "python3"
  },
  "language_info": {
   "codemirror_mode": {
    "name": "ipython",
    "version": 3
   },
   "file_extension": ".py",
   "mimetype": "text/x-python",
   "name": "python",
   "nbconvert_exporter": "python",
   "pygments_lexer": "ipython3",
   "version": "3.7.9"
  }
 },
 "nbformat": 4,
 "nbformat_minor": 4
}
